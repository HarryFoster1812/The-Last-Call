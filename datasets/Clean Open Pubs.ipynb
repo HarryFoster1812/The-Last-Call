{
 "cells": [
  {
   "cell_type": "code",
   "execution_count": 143,
   "id": "659678d2-f88f-4e1a-8841-488cb26b5248",
   "metadata": {},
   "outputs": [],
   "source": [
    "import pandas as pd\n",
    "import numpy as np\n",
    "\n",
    "pubs = pd.read_csv('open_pubs.csv', header=None)\n",
    "pubs.iloc[0]\n",
    "pubs.columns = ['fsa_id','name', 'address', 'postcode', 'easting', 'northing', 'latitude', 'longitude','local_authority']\n"
   ]
  },
  {
   "cell_type": "code",
   "execution_count": 144,
   "id": "5c081d02-5fd1-42a3-aaf2-4f5187431bdf",
   "metadata": {},
   "outputs": [],
   "source": [
    "pubs = pubs.drop(['easting', 'northing', 'fsa_id'], axis=1)\n",
    "pubs = pubs.dropna()"
   ]
  },
  {
   "cell_type": "code",
   "execution_count": 145,
   "id": "99ab7f5f-8155-4180-87c8-1402d61e3223",
   "metadata": {},
   "outputs": [],
   "source": [
    "pubs.iloc[151]['longitude']\n",
    "no_location_data = pubs[pubs['longitude'] == '\\\\N']\n",
    "pubs = pubs.drop(no_location_data.index, axis=0)\n"
   ]
  },
  {
   "cell_type": "code",
   "execution_count": 146,
   "id": "b8893901-e7f9-412f-9e08-4a677c6773a7",
   "metadata": {},
   "outputs": [],
   "source": [
    "pubs = pubs.replace(to_replace= r'\\\\', value= '', regex=True)"
   ]
  },
  {
   "cell_type": "code",
   "execution_count": 147,
   "id": "142327a6-8729-4c37-8acb-884df4deda3f",
   "metadata": {},
   "outputs": [],
   "source": [
    "pubs['venue_id'] = np.arange(len(pubs))\n",
    "pubs = pubs.set_index('venue_id')"
   ]
  },
  {
   "cell_type": "code",
   "execution_count": 148,
   "id": "a8537d9c-9ae8-4689-99ca-054799c8c933",
   "metadata": {},
   "outputs": [],
   "source": [
    "pubs.to_csv('venues.csv')"
   ]
  },
  {
   "cell_type": "code",
   "execution_count": null,
   "id": "36c26c57-ab84-49ae-a35f-0f8ab54eb834",
   "metadata": {},
   "outputs": [],
   "source": []
  }
 ],
 "metadata": {
  "kernelspec": {
   "display_name": "Python 3 (ipykernel)",
   "language": "python",
   "name": "python3"
  },
  "language_info": {
   "codemirror_mode": {
    "name": "ipython",
    "version": 3
   },
   "file_extension": ".py",
   "mimetype": "text/x-python",
   "name": "python",
   "nbconvert_exporter": "python",
   "pygments_lexer": "ipython3",
   "version": "3.13.5"
  }
 },
 "nbformat": 4,
 "nbformat_minor": 5
}
